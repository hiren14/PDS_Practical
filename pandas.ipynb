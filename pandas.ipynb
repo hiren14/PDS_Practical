{
 "cells": [
  {
   "cell_type": "code",
   "execution_count": 7,
   "id": "8150ccf2",
   "metadata": {},
   "outputs": [],
   "source": [
    "import pandas as pd\n",
    "import numpy as np"
   ]
  },
  {
   "cell_type": "markdown",
   "id": "a58507d6",
   "metadata": {},
   "source": [
    "# data frame"
   ]
  },
  {
   "cell_type": "code",
   "execution_count": 2,
   "id": "d8c45606",
   "metadata": {},
   "outputs": [],
   "source": [
    "mydataset ={'cars':['BMW','AMG','VOLVO'],'passings':[3,7,2]}"
   ]
  },
  {
   "cell_type": "code",
   "execution_count": 3,
   "id": "24c297f9",
   "metadata": {
    "scrolled": true
   },
   "outputs": [
    {
     "data": {
      "text/html": [
       "<div>\n",
       "<style scoped>\n",
       "    .dataframe tbody tr th:only-of-type {\n",
       "        vertical-align: middle;\n",
       "    }\n",
       "\n",
       "    .dataframe tbody tr th {\n",
       "        vertical-align: top;\n",
       "    }\n",
       "\n",
       "    .dataframe thead th {\n",
       "        text-align: right;\n",
       "    }\n",
       "</style>\n",
       "<table border=\"1\" class=\"dataframe\">\n",
       "  <thead>\n",
       "    <tr style=\"text-align: right;\">\n",
       "      <th></th>\n",
       "      <th>cars</th>\n",
       "      <th>passings</th>\n",
       "    </tr>\n",
       "  </thead>\n",
       "  <tbody>\n",
       "    <tr>\n",
       "      <th>0</th>\n",
       "      <td>BMW</td>\n",
       "      <td>3</td>\n",
       "    </tr>\n",
       "    <tr>\n",
       "      <th>1</th>\n",
       "      <td>AMG</td>\n",
       "      <td>7</td>\n",
       "    </tr>\n",
       "    <tr>\n",
       "      <th>2</th>\n",
       "      <td>VOLVO</td>\n",
       "      <td>2</td>\n",
       "    </tr>\n",
       "  </tbody>\n",
       "</table>\n",
       "</div>"
      ],
      "text/plain": [
       "    cars  passings\n",
       "0    BMW         3\n",
       "1    AMG         7\n",
       "2  VOLVO         2"
      ]
     },
     "execution_count": 3,
     "metadata": {},
     "output_type": "execute_result"
    }
   ],
   "source": [
    "myvar =pd.DataFrame(mydataset)\n",
    "myvar"
   ]
  },
  {
   "cell_type": "markdown",
   "id": "6ddfa2b3",
   "metadata": {},
   "source": [
    "# what is series \n",
    "### is like a cloumn in a table.\n",
    "#### it's a 1-d array holding data of any type"
   ]
  },
  {
   "cell_type": "code",
   "execution_count": 4,
   "id": "40bd901d",
   "metadata": {
    "scrolled": true
   },
   "outputs": [
    {
     "name": "stdout",
     "output_type": "stream",
     "text": [
      "0    1\n",
      "1    2\n",
      "2    3\n",
      "3    4\n",
      "4    5\n",
      "5    6\n",
      "6    7\n",
      "7    8\n",
      "8    9\n",
      "dtype: int32\n"
     ]
    }
   ],
   "source": [
    "a=np.arange(1,10)\n",
    "myseries=pd.Series(a)\n",
    "print(myseries)"
   ]
  },
  {
   "cell_type": "markdown",
   "id": "9e0a12bd",
   "metadata": {},
   "source": [
    "# labels in series \n",
    "## above has my default form 0 to n "
   ]
  },
  {
   "cell_type": "code",
   "execution_count": 5,
   "id": "0eac1233",
   "metadata": {},
   "outputs": [
    {
     "name": "stdout",
     "output_type": "stream",
     "text": [
      "x    2\n",
      "y    8\n",
      "z    9\n",
      "dtype: int64\n"
     ]
    }
   ],
   "source": [
    "bs=[2,8,9]\n",
    "b=pd.Series(bs,index=['x','y','z'])\n",
    "print(b)"
   ]
  },
  {
   "cell_type": "code",
   "execution_count": 6,
   "id": "a815ef47",
   "metadata": {},
   "outputs": [
    {
     "name": "stdout",
     "output_type": "stream",
     "text": [
      "8\n"
     ]
    }
   ],
   "source": [
    "print(b['y'])"
   ]
  },
  {
   "cell_type": "markdown",
   "id": "0d25eb96",
   "metadata": {},
   "source": [
    "# series from dictionary"
   ]
  },
  {
   "cell_type": "code",
   "execution_count": 7,
   "id": "bd292585",
   "metadata": {},
   "outputs": [
    {
     "name": "stdout",
     "output_type": "stream",
     "text": [
      "day1    333\n",
      "day2    444\n",
      "day3    555\n",
      "dtype: int64\n"
     ]
    }
   ],
   "source": [
    "calories ={'day1':333,'day2':444,'day3':555}\n",
    "c=pd.Series(calories)\n",
    "print(c)"
   ]
  },
  {
   "cell_type": "markdown",
   "id": "fd20cc6e",
   "metadata": {},
   "source": [
    "# df from two series"
   ]
  },
  {
   "cell_type": "code",
   "execution_count": 8,
   "id": "ae199c72",
   "metadata": {},
   "outputs": [
    {
     "name": "stdout",
     "output_type": "stream",
     "text": [
      "   calories  duration\n",
      "0       420        50\n",
      "1       300        45\n",
      "2       500        60\n"
     ]
    }
   ],
   "source": [
    "data ={'calories':[420,300,500],\n",
    "'duration':[50,45,60]}\n",
    "d=pd.DataFrame(data)\n",
    "print(d)"
   ]
  },
  {
   "cell_type": "markdown",
   "id": "b63268d3",
   "metadata": {},
   "source": [
    "# what is Data Frame ? \n",
    "## A pandas df is a 2-d data Sturucture , like a 2-d array or a tabel with row and col \n",
    "\n",
    "# loc Row "
   ]
  },
  {
   "cell_type": "code",
   "execution_count": 9,
   "id": "af886ffb",
   "metadata": {
    "scrolled": true
   },
   "outputs": [
    {
     "name": "stdout",
     "output_type": "stream",
     "text": [
      "calories    420\n",
      "duration     50\n",
      "Name: 0, dtype: int64\n"
     ]
    }
   ],
   "source": [
    "print(d.loc[0])"
   ]
  },
  {
   "cell_type": "code",
   "execution_count": 10,
   "id": "c6b09895",
   "metadata": {},
   "outputs": [
    {
     "name": "stdout",
     "output_type": "stream",
     "text": [
      "   calories  duration\n",
      "0       420        50\n",
      "1       300        45\n"
     ]
    }
   ],
   "source": [
    "print(d.loc[[0,1]])"
   ]
  },
  {
   "cell_type": "markdown",
   "id": "46322b4e",
   "metadata": {},
   "source": [
    "# read a csv file \n",
    "### by pass the to_string a all df can be print "
   ]
  },
  {
   "cell_type": "code",
   "execution_count": 11,
   "id": "2be9304a",
   "metadata": {},
   "outputs": [
    {
     "name": "stdout",
     "output_type": "stream",
     "text": [
      "     Duration  Pulse  Maxpulse  Calories\n",
      "0          60    110       130     409.1\n",
      "1          60    117       145     479.0\n",
      "2          60    103       135     340.0\n",
      "3          45    109       175     282.4\n",
      "4          45    117       148     406.0\n",
      "5          60    102       127     300.0\n",
      "6          60    110       136     374.0\n",
      "7          45    104       134     253.3\n",
      "8          30    109       133     195.1\n",
      "9          60     98       124     269.0\n",
      "10         60    103       147     329.3\n",
      "11         60    100       120     250.7\n",
      "12         60    106       128     345.3\n",
      "13         60    104       132     379.3\n",
      "14         60     98       123     275.0\n",
      "15         60     98       120     215.2\n",
      "16         60    100       120     300.0\n",
      "17         45     90       112       NaN\n",
      "18         60    103       123     323.0\n",
      "19         45     97       125     243.0\n",
      "20         60    108       131     364.2\n",
      "21         45    100       119     282.0\n",
      "22         60    130       101     300.0\n",
      "23         45    105       132     246.0\n",
      "24         60    102       126     334.5\n",
      "25         60    100       120     250.0\n",
      "26         60     92       118     241.0\n",
      "27         60    103       132       NaN\n",
      "28         60    100       132     280.0\n",
      "29         60    102       129     380.3\n",
      "30         60     92       115     243.0\n",
      "31         45     90       112     180.1\n",
      "32         60    101       124     299.0\n",
      "33         60     93       113     223.0\n",
      "34         60    107       136     361.0\n",
      "35         60    114       140     415.0\n",
      "36         60    102       127     300.0\n",
      "37         60    100       120     300.0\n",
      "38         60    100       120     300.0\n",
      "39         45    104       129     266.0\n",
      "40         45     90       112     180.1\n",
      "41         60     98       126     286.0\n",
      "42         60    100       122     329.4\n",
      "43         60    111       138     400.0\n",
      "44         60    111       131     397.0\n",
      "45         60     99       119     273.0\n",
      "46         60    109       153     387.6\n",
      "47         45    111       136     300.0\n",
      "48         45    108       129     298.0\n",
      "49         60    111       139     397.6\n",
      "50         60    107       136     380.2\n",
      "51         80    123       146     643.1\n",
      "52         60    106       130     263.0\n",
      "53         60    118       151     486.0\n",
      "54         30    136       175     238.0\n",
      "55         60    121       146     450.7\n",
      "56         60    118       121     413.0\n",
      "57         45    115       144     305.0\n",
      "58         20    153       172     226.4\n",
      "59         45    123       152     321.0\n",
      "60        210    108       160    1376.0\n",
      "61        160    110       137    1034.4\n",
      "62        160    109       135     853.0\n",
      "63         45    118       141     341.0\n",
      "64         20    110       130     131.4\n",
      "65        180     90       130     800.4\n",
      "66        150    105       135     873.4\n",
      "67        150    107       130     816.0\n",
      "68         20    106       136     110.4\n",
      "69        300    108       143    1500.2\n",
      "70        150     97       129    1115.0\n",
      "71         60    109       153     387.6\n",
      "72         90    100       127     700.0\n",
      "73        150     97       127     953.2\n",
      "74         45    114       146     304.0\n",
      "75         90     98       125     563.2\n",
      "76         45    105       134     251.0\n",
      "77         45    110       141     300.0\n",
      "78        120    100       130     500.4\n",
      "79        270    100       131    1729.0\n",
      "80         30    159       182     319.2\n",
      "81         45    149       169     344.0\n",
      "82         30    103       139     151.1\n",
      "83        120    100       130     500.0\n",
      "84         45    100       120     225.3\n",
      "85         30    151       170     300.0\n",
      "86         45    102       136     234.0\n",
      "87        120    100       157    1000.1\n",
      "88         45    129       103     242.0\n",
      "89         20     83       107      50.3\n",
      "90        180    101       127     600.1\n",
      "91         45    107       137       NaN\n",
      "92         30     90       107     105.3\n",
      "93         15     80       100      50.5\n",
      "94         20    150       171     127.4\n",
      "95         20    151       168     229.4\n",
      "96         30     95       128     128.2\n",
      "97         25    152       168     244.2\n",
      "98         30    109       131     188.2\n",
      "99         90     93       124     604.1\n",
      "100        20     95       112      77.7\n",
      "101        90     90       110     500.0\n",
      "102        90     90       100     500.0\n",
      "103        90     90       100     500.4\n",
      "104        30     92       108      92.7\n",
      "105        30     93       128     124.0\n",
      "106       180     90       120     800.3\n",
      "107        30     90       120      86.2\n",
      "108        90     90       120     500.3\n",
      "109       210    137       184    1860.4\n",
      "110        60    102       124     325.2\n",
      "111        45    107       124     275.0\n",
      "112        15    124       139     124.2\n",
      "113        45    100       120     225.3\n",
      "114        60    108       131     367.6\n",
      "115        60    108       151     351.7\n",
      "116        60    116       141     443.0\n",
      "117        60     97       122     277.4\n",
      "118        60    105       125       NaN\n",
      "119        60    103       124     332.7\n",
      "120        30    112       137     193.9\n",
      "121        45    100       120     100.7\n",
      "122        60    119       169     336.7\n",
      "123        60    107       127     344.9\n",
      "124        60    111       151     368.5\n",
      "125        60     98       122     271.0\n",
      "126        60     97       124     275.3\n",
      "127        60    109       127     382.0\n",
      "128        90     99       125     466.4\n",
      "129        60    114       151     384.0\n",
      "130        60    104       134     342.5\n",
      "131        60    107       138     357.5\n",
      "132        60    103       133     335.0\n",
      "133        60    106       132     327.5\n",
      "134        60    103       136     339.0\n",
      "135        20    136       156     189.0\n",
      "136        45    117       143     317.7\n",
      "137        45    115       137     318.0\n",
      "138        45    113       138     308.0\n",
      "139        20    141       162     222.4\n",
      "140        60    108       135     390.0\n",
      "141        60     97       127       NaN\n",
      "142        45    100       120     250.4\n",
      "143        45    122       149     335.4\n",
      "144        60    136       170     470.2\n",
      "145        45    106       126     270.8\n",
      "146        60    107       136     400.0\n",
      "147        60    112       146     361.9\n",
      "148        30    103       127     185.0\n",
      "149        60    110       150     409.4\n",
      "150        60    106       134     343.0\n",
      "151        60    109       129     353.2\n",
      "152        60    109       138     374.0\n",
      "153        30    150       167     275.8\n",
      "154        60    105       128     328.0\n",
      "155        60    111       151     368.5\n",
      "156        60     97       131     270.4\n",
      "157        60    100       120     270.4\n",
      "158        60    114       150     382.8\n",
      "159        30     80       120     240.9\n",
      "160        30     85       120     250.4\n",
      "161        45     90       130     260.4\n",
      "162        45     95       130     270.0\n",
      "163        45    100       140     280.9\n",
      "164        60    105       140     290.8\n",
      "165        60    110       145     300.0\n",
      "166        60    115       145     310.2\n",
      "167        75    120       150     320.4\n",
      "168        75    125       150     330.4\n"
     ]
    }
   ],
   "source": [
    "df= pd.read_csv('data.csv')\n",
    "print(df.to_string())"
   ]
  },
  {
   "cell_type": "code",
   "execution_count": 13,
   "id": "b8434a3f",
   "metadata": {
    "scrolled": true
   },
   "outputs": [
    {
     "name": "stdout",
     "output_type": "stream",
     "text": [
      "     Duration  Pulse  Maxpulse  Calories\n",
      "0          60    110       130     409.1\n",
      "1          60    117       145     479.0\n",
      "2          60    103       135     340.0\n",
      "3          45    109       175     282.4\n",
      "4          45    117       148     406.0\n",
      "..        ...    ...       ...       ...\n",
      "164        60    105       140     290.8\n",
      "165        60    110       145     300.0\n",
      "166        60    115       145     310.2\n",
      "167        75    120       150     320.4\n",
      "168        75    125       150     330.4\n",
      "\n",
      "[169 rows x 4 columns]\n"
     ]
    }
   ],
   "source": [
    "print(df)"
   ]
  },
  {
   "cell_type": "code",
   "execution_count": 14,
   "id": "6aa60cd7",
   "metadata": {
    "scrolled": false
   },
   "outputs": [
    {
     "name": "stdout",
     "output_type": "stream",
     "text": [
      "60\n"
     ]
    }
   ],
   "source": [
    "print(pd.options.display.max_rows)"
   ]
  },
  {
   "cell_type": "markdown",
   "id": "a57fa67a",
   "metadata": {},
   "source": [
    "# data anlyzing"
   ]
  },
  {
   "cell_type": "markdown",
   "id": "3610a719",
   "metadata": {},
   "source": [
    "# head()\n",
    "## display the first 5 if is passed with no arug \n",
    "##  -1 means left one last row data "
   ]
  },
  {
   "cell_type": "code",
   "execution_count": 23,
   "id": "bd30266f",
   "metadata": {
    "scrolled": true
   },
   "outputs": [
    {
     "name": "stdout",
     "output_type": "stream",
     "text": [
      "   Duration  Pulse  Maxpulse  Calories\n",
      "0        60    110       130     409.1\n",
      "1        60    117       145     479.0\n",
      "2        60    103       135     340.0\n",
      "3        45    109       175     282.4\n",
      "4        45    117       148     406.0\n"
     ]
    }
   ],
   "source": [
    "df=pd.read_csv('data.csv')\n",
    "print(df.head())"
   ]
  },
  {
   "cell_type": "code",
   "execution_count": 24,
   "id": "3663f29c",
   "metadata": {},
   "outputs": [
    {
     "name": "stdout",
     "output_type": "stream",
     "text": [
      "    Duration  Pulse  Maxpulse  Calories\n",
      "0         60    110       130     409.1\n",
      "1         60    117       145     479.0\n",
      "2         60    103       135     340.0\n",
      "3         45    109       175     282.4\n",
      "4         45    117       148     406.0\n",
      "5         60    102       127     300.0\n",
      "6         60    110       136     374.0\n",
      "7         45    104       134     253.3\n",
      "8         30    109       133     195.1\n",
      "9         60     98       124     269.0\n",
      "10        60    103       147     329.3\n",
      "11        60    100       120     250.7\n",
      "12        60    106       128     345.3\n",
      "13        60    104       132     379.3\n",
      "14        60     98       123     275.0\n"
     ]
    }
   ],
   "source": [
    "print(df.head(15))"
   ]
  },
  {
   "cell_type": "code",
   "execution_count": 25,
   "id": "b82ddd35",
   "metadata": {},
   "outputs": [
    {
     "name": "stdout",
     "output_type": "stream",
     "text": [
      "     Duration  Pulse  Maxpulse  Calories\n",
      "0          60    110       130     409.1\n",
      "1          60    117       145     479.0\n",
      "2          60    103       135     340.0\n",
      "3          45    109       175     282.4\n",
      "4          45    117       148     406.0\n",
      "..        ...    ...       ...       ...\n",
      "163        45    100       140     280.9\n",
      "164        60    105       140     290.8\n",
      "165        60    110       145     300.0\n",
      "166        60    115       145     310.2\n",
      "167        75    120       150     320.4\n",
      "\n",
      "[168 rows x 4 columns]\n"
     ]
    }
   ],
   "source": [
    "print(df.head(-1))"
   ]
  },
  {
   "cell_type": "code",
   "execution_count": 27,
   "id": "b8f6024f",
   "metadata": {},
   "outputs": [
    {
     "name": "stdout",
     "output_type": "stream",
     "text": [
      "     Duration  Pulse  Maxpulse  Calories\n",
      "164        60    105       140     290.8\n",
      "165        60    110       145     300.0\n",
      "166        60    115       145     310.2\n",
      "167        75    120       150     320.4\n",
      "168        75    125       150     330.4\n"
     ]
    }
   ],
   "source": [
    "print(df.tail())"
   ]
  },
  {
   "cell_type": "markdown",
   "id": "76d3f751",
   "metadata": {},
   "source": [
    "# info"
   ]
  },
  {
   "cell_type": "code",
   "execution_count": 28,
   "id": "bc0e89e6",
   "metadata": {},
   "outputs": [
    {
     "name": "stdout",
     "output_type": "stream",
     "text": [
      "<class 'pandas.core.frame.DataFrame'>\n",
      "RangeIndex: 169 entries, 0 to 168\n",
      "Data columns (total 4 columns):\n",
      " #   Column    Non-Null Count  Dtype  \n",
      "---  ------    --------------  -----  \n",
      " 0   Duration  169 non-null    int64  \n",
      " 1   Pulse     169 non-null    int64  \n",
      " 2   Maxpulse  169 non-null    int64  \n",
      " 3   Calories  164 non-null    float64\n",
      "dtypes: float64(1), int64(3)\n",
      "memory usage: 5.4 KB\n",
      "None\n"
     ]
    }
   ],
   "source": [
    "print(df.info())"
   ]
  },
  {
   "cell_type": "markdown",
   "id": "c33db836",
   "metadata": {},
   "source": [
    "#     cleaning Data\n",
    "### Empty, data in wrong format,duplicates.\n"
   ]
  },
  {
   "cell_type": "markdown",
   "id": "131c4d31",
   "metadata": {},
   "source": [
    "# dropna() method returns a new df and not change the org"
   ]
  },
  {
   "cell_type": "code",
   "execution_count": 8,
   "id": "cf10651a",
   "metadata": {},
   "outputs": [
    {
     "name": "stdout",
     "output_type": "stream",
     "text": [
      "     Duration  Pulse  Maxpulse  Calories\n",
      "0          60    110       130     409.1\n",
      "1          60    117       145     479.0\n",
      "2          60    103       135     340.0\n",
      "3          45    109       175     282.4\n",
      "4          45    117       148     406.0\n",
      "..        ...    ...       ...       ...\n",
      "164        60    105       140     290.8\n",
      "165        60    110       145     300.0\n",
      "166        60    115       145     310.2\n",
      "167        75    120       150     320.4\n",
      "168        75    125       150     330.4\n",
      "\n",
      "[164 rows x 4 columns]\n"
     ]
    }
   ],
   "source": [
    "df1=pd.read_csv('data.csv')\n",
    "new_df=df1.dropna()\n",
    "print(new_df)"
   ]
  },
  {
   "cell_type": "code",
   "execution_count": 13,
   "id": "44ed8c4c",
   "metadata": {},
   "outputs": [
    {
     "name": "stdout",
     "output_type": "stream",
     "text": [
      "None\n"
     ]
    }
   ],
   "source": [
    "df1=pd.read_csv('data.csv')\n",
    "new_df=df1.dropna(inplace =True)\n",
    "print(new_df)"
   ]
  },
  {
   "cell_type": "markdown",
   "id": "aae43361",
   "metadata": {},
   "source": [
    "# replace empty value using fillna()"
   ]
  },
  {
   "cell_type": "code",
   "execution_count": 16,
   "id": "8ddd1a65",
   "metadata": {},
   "outputs": [
    {
     "data": {
      "text/html": [
       "<div>\n",
       "<style scoped>\n",
       "    .dataframe tbody tr th:only-of-type {\n",
       "        vertical-align: middle;\n",
       "    }\n",
       "\n",
       "    .dataframe tbody tr th {\n",
       "        vertical-align: top;\n",
       "    }\n",
       "\n",
       "    .dataframe thead th {\n",
       "        text-align: right;\n",
       "    }\n",
       "</style>\n",
       "<table border=\"1\" class=\"dataframe\">\n",
       "  <thead>\n",
       "    <tr style=\"text-align: right;\">\n",
       "      <th></th>\n",
       "      <th>Duration</th>\n",
       "      <th>Pulse</th>\n",
       "      <th>Maxpulse</th>\n",
       "      <th>Calories</th>\n",
       "    </tr>\n",
       "  </thead>\n",
       "  <tbody>\n",
       "    <tr>\n",
       "      <th>0</th>\n",
       "      <td>60</td>\n",
       "      <td>110</td>\n",
       "      <td>130</td>\n",
       "      <td>409.1</td>\n",
       "    </tr>\n",
       "    <tr>\n",
       "      <th>1</th>\n",
       "      <td>60</td>\n",
       "      <td>117</td>\n",
       "      <td>145</td>\n",
       "      <td>479.0</td>\n",
       "    </tr>\n",
       "    <tr>\n",
       "      <th>2</th>\n",
       "      <td>60</td>\n",
       "      <td>103</td>\n",
       "      <td>135</td>\n",
       "      <td>340.0</td>\n",
       "    </tr>\n",
       "    <tr>\n",
       "      <th>3</th>\n",
       "      <td>45</td>\n",
       "      <td>109</td>\n",
       "      <td>175</td>\n",
       "      <td>282.4</td>\n",
       "    </tr>\n",
       "    <tr>\n",
       "      <th>4</th>\n",
       "      <td>45</td>\n",
       "      <td>117</td>\n",
       "      <td>148</td>\n",
       "      <td>406.0</td>\n",
       "    </tr>\n",
       "    <tr>\n",
       "      <th>...</th>\n",
       "      <td>...</td>\n",
       "      <td>...</td>\n",
       "      <td>...</td>\n",
       "      <td>...</td>\n",
       "    </tr>\n",
       "    <tr>\n",
       "      <th>164</th>\n",
       "      <td>60</td>\n",
       "      <td>105</td>\n",
       "      <td>140</td>\n",
       "      <td>290.8</td>\n",
       "    </tr>\n",
       "    <tr>\n",
       "      <th>165</th>\n",
       "      <td>60</td>\n",
       "      <td>110</td>\n",
       "      <td>145</td>\n",
       "      <td>300.0</td>\n",
       "    </tr>\n",
       "    <tr>\n",
       "      <th>166</th>\n",
       "      <td>60</td>\n",
       "      <td>115</td>\n",
       "      <td>145</td>\n",
       "      <td>310.2</td>\n",
       "    </tr>\n",
       "    <tr>\n",
       "      <th>167</th>\n",
       "      <td>75</td>\n",
       "      <td>120</td>\n",
       "      <td>150</td>\n",
       "      <td>320.4</td>\n",
       "    </tr>\n",
       "    <tr>\n",
       "      <th>168</th>\n",
       "      <td>75</td>\n",
       "      <td>125</td>\n",
       "      <td>150</td>\n",
       "      <td>330.4</td>\n",
       "    </tr>\n",
       "  </tbody>\n",
       "</table>\n",
       "<p>164 rows × 4 columns</p>\n",
       "</div>"
      ],
      "text/plain": [
       "     Duration  Pulse  Maxpulse  Calories\n",
       "0          60    110       130     409.1\n",
       "1          60    117       145     479.0\n",
       "2          60    103       135     340.0\n",
       "3          45    109       175     282.4\n",
       "4          45    117       148     406.0\n",
       "..        ...    ...       ...       ...\n",
       "164        60    105       140     290.8\n",
       "165        60    110       145     300.0\n",
       "166        60    115       145     310.2\n",
       "167        75    120       150     320.4\n",
       "168        75    125       150     330.4\n",
       "\n",
       "[164 rows x 4 columns]"
      ]
     },
     "execution_count": 16,
     "metadata": {},
     "output_type": "execute_result"
    }
   ],
   "source": [
    "df1.fillna(1300000,inplace=True)\n",
    "df1"
   ]
  },
  {
   "cell_type": "code",
   "execution_count": 6,
   "id": "37cd34d3",
   "metadata": {},
   "outputs": [
    {
     "name": "stdout",
     "output_type": "stream",
     "text": [
      "                    carat                                                   \\\n",
      "                    count      mean       std   min     25%    50%     75%   \n",
      "cut       clarity                                                            \n",
      "Fair      I1        210.0  1.361000  0.745148  0.34  0.8500  1.065  1.8175   \n",
      "          IF          9.0  0.474444  0.132393  0.30  0.3700  0.470  0.5200   \n",
      "          SI1       408.0  0.964632  0.383930  0.29  0.7000  0.980  1.0200   \n",
      "          SI2       466.0  1.203841  0.501377  0.25  0.9000  1.010  1.5000   \n",
      "          VS1       170.0  0.879824  0.409333  0.25  0.5975  0.770  1.0100   \n",
      "          VS2       261.0  0.885249  0.384593  0.22  0.6400  0.900  1.0100   \n",
      "          VVS1       17.0  0.664706  0.319279  0.30  0.3400  0.700  0.9100   \n",
      "          VVS2       69.0  0.691594  0.319400  0.23  0.4500  0.700  0.9100   \n",
      "Good      I1         96.0  1.203021  0.505207  0.32  0.9000  1.070  1.5100   \n",
      "          IF         71.0  0.616338  0.357780  0.24  0.3150  0.460  0.9000   \n",
      "          SI1      1560.0  0.830397  0.428446  0.28  0.5000  0.790  1.0100   \n",
      "          SI2      1081.0  1.035227  0.495711  0.30  0.7100  1.000  1.2000   \n",
      "          VS1       648.0  0.757685  0.403260  0.23  0.4100  0.700  1.0100   \n",
      "          VS2       978.0  0.850787  0.423081  0.23  0.5000  0.820  1.0100   \n",
      "          VVS1      186.0  0.502312  0.283287  0.23  0.3000  0.400  0.7000   \n",
      "          VVS2      286.0  0.614930  0.346358  0.23  0.3100  0.505  0.9000   \n",
      "Ideal     I1        146.0  1.222671  0.518559  0.30  1.0100  1.130  1.3475   \n",
      "          IF       1212.0  0.455041  0.267588  0.23  0.3100  0.340  0.4625   \n",
      "          SI1      4282.0  0.801808  0.442048  0.23  0.4200  0.710  1.0500   \n",
      "          SI2      2598.0  1.007925  0.509468  0.23  0.6200  1.000  1.2000   \n",
      "          VS1      3589.0  0.674714  0.396110  0.23  0.3600  0.530  0.9100   \n",
      "          VS2      5071.0  0.670566  0.409878  0.20  0.3400  0.530  0.9100   \n",
      "          VVS1     2047.0  0.495960  0.278888  0.23  0.3200  0.400  0.5500   \n",
      "          VVS2     2606.0  0.586213  0.338846  0.23  0.3300  0.440  0.7100   \n",
      "Premium   I1        205.0  1.287024  0.642982  0.31  1.0000  1.110  1.5000   \n",
      "          IF        230.0  0.603478  0.404873  0.25  0.3125  0.360  0.9750   \n",
      "          SI1      3575.0  0.908601  0.480535  0.21  0.5000  0.900  1.1500   \n",
      "          SI2      2949.0  1.144161  0.537168  0.20  0.7600  1.040  1.5000   \n",
      "          VS1      1989.0  0.793308  0.472739  0.23  0.3800  0.700  1.1200   \n",
      "          VS2      3357.0  0.833774  0.489778  0.20  0.3800  0.720  1.1300   \n",
      "          VVS1      616.0  0.534821  0.353695  0.23  0.3100  0.400  0.5900   \n",
      "          VVS2      870.0  0.654724  0.400146  0.23  0.3300  0.455  1.0100   \n",
      "Very Good I1         84.0  1.281905  0.600525  0.39  1.0000  1.145  1.5000   \n",
      "          IF        268.0  0.618769  0.350432  0.23  0.3200  0.495  1.0000   \n",
      "          SI1      3240.0  0.845978  0.432238  0.24  0.5000  0.770  1.0300   \n",
      "          SI2      2100.0  1.064338  0.493639  0.23  0.7200  1.010  1.2400   \n",
      "          VS1      1775.0  0.733307  0.412271  0.23  0.3800  0.700  1.0100   \n",
      "          VS2      2591.0  0.811181  0.436545  0.20  0.4600  0.710  1.0200   \n",
      "          VVS1      789.0  0.494588  0.306685  0.23  0.2900  0.360  0.6300   \n",
      "          VVS2     1235.0  0.566389  0.372132  0.23  0.2800  0.400  0.7300   \n",
      "\n",
      "                          depth             ...       y              z  \\\n",
      "                    max   count       mean  ...     75%    max   count   \n",
      "cut       clarity                           ...                          \n",
      "Fair      I1       5.01   210.0  65.699048  ...  7.3850  10.54   210.0   \n",
      "          IF       0.71     9.0  60.066667  ...  5.1700   5.81     9.0   \n",
      "          SI1      2.32   408.0  63.910294  ...  6.4250   8.69   408.0   \n",
      "          SI2      3.01   466.0  64.421888  ...  7.0900   8.94   466.0   \n",
      "          VS1      2.06   170.0  62.945294  ...  6.2600   8.17   170.0   \n",
      "          VS2      2.29   261.0  63.637548  ...  6.2400   8.60   261.0   \n",
      "          VVS1     1.32    17.0  60.417647  ...  6.1000   7.28    17.0   \n",
      "          VVS2     1.52    69.0  62.847826  ...  6.1600   7.21    69.0   \n",
      "Good      I1       3.00    96.0  62.067708  ...  7.2925   9.31    96.0   \n",
      "          IF       1.53    71.0  61.440845  ...  6.1200   7.46    71.0   \n",
      "          SI1      2.40  1560.0  62.696346  ...  6.3900   8.81  1560.0   \n",
      "          SI2      3.01  1081.0  62.242831  ...  6.7500   9.38  1081.0   \n",
      "          VS1      2.27   648.0  62.018673  ...  6.3500   8.55   648.0   \n",
      "          VS2      2.50   978.0  62.363292  ...  6.4200   8.60   978.0   \n",
      "          VVS1     1.51   186.0  62.123118  ...  5.6775   7.53   186.0   \n",
      "          VVS2     2.03   286.0  62.311538  ...  6.1100   7.94   286.0   \n",
      "Ideal     I1       3.50   146.0  61.648630  ...  7.0475   9.59   146.0   \n",
      "          IF       2.08  1212.0  61.645710  ...  5.0100   8.25  1212.0   \n",
      "          SI1      2.56  4282.0  61.737482  ...  6.5500   8.76  4282.0   \n",
      "          SI2      3.01  2598.0  61.701001  ...  6.8200   9.20  2598.0   \n",
      "          VS1      2.59  3589.0  61.706436  ...  6.2400  31.80  3589.0   \n",
      "          VS2      2.50  5071.0  61.730901  ...  6.2250   8.81  5071.0   \n",
      "          VVS1     1.70  2047.0  61.679091  ...  5.2700   7.69  2047.0   \n",
      "          VVS2     2.07  2606.0  61.690714  ...  5.7700   8.17  2606.0   \n",
      "Premium   I1       4.01   205.0  61.183415  ...  7.2800  10.10   205.0   \n",
      "          IF       2.29   230.0  61.047826  ...  6.2625   8.49   230.0   \n",
      "          SI1      2.57  3575.0  61.303329  ...  6.7100   8.87  3575.0   \n",
      "          SI2      3.04  2949.0  61.178976  ...  7.2400  58.90  2949.0   \n",
      "          VS1      2.55  1989.0  61.318451  ...  6.6700   8.78  1989.0   \n",
      "          VS2      3.51  3357.0  61.283408  ...  6.6900   9.63  3357.0   \n",
      "          VVS1     2.31   616.0  61.260877  ...  5.3525   8.42   616.0   \n",
      "          VVS2     2.00   870.0  61.280230  ...  6.3800   7.97   870.0   \n",
      "Very Good I1       4.00    84.0  61.755952  ...  7.2575   9.94    84.0   \n",
      "          IF       1.54   268.0  61.363806  ...  6.3600   7.61   268.0   \n",
      "          SI1      2.51  3240.0  61.947222  ...  6.5300   8.65  3240.0   \n",
      "          SI2      3.04  2100.0  61.862952  ...  6.9100   9.07  2100.0   \n",
      "          VS1      2.39  1775.0  61.729127  ...  6.4100   8.77  1775.0   \n",
      "          VS2      2.44  2591.0  61.849247  ...  6.5050   8.93  2591.0   \n",
      "          VVS1     1.70   789.0  61.675919  ...  5.5100   7.84   789.0   \n",
      "          VVS2     2.03  1235.0  61.660972  ...  5.8350   8.14  1235.0   \n",
      "\n",
      "                                                                           \n",
      "                       mean       std   min     25%    50%     75%    max  \n",
      "cut       clarity                                                          \n",
      "Fair      I1       4.386905  0.756346  2.60  3.7700  4.220  4.8625   6.98  \n",
      "          IF       3.033333  0.318787  2.58  2.7700  3.050  3.3000   3.43  \n",
      "          SI1      3.895711  0.516342  2.48  3.6000  3.950  4.1200   5.26  \n",
      "          SI2      4.211867  0.585396  2.32  3.8600  4.090  4.6275   6.16  \n",
      "          VS1      3.709882  0.640182  0.00  3.3125  3.690  4.0575   5.26  \n",
      "          VS2      3.780230  0.546668  2.47  3.3400  3.830  4.0800   5.23  \n",
      "          VVS1     3.327647  0.583326  2.57  2.7400  3.440  3.7700   4.23  \n",
      "          VVS2     3.444058  0.568096  2.37  3.0400  3.400  3.8300   4.72  \n",
      "Good      I1       4.065625  0.724948  0.00  3.6850  4.085  4.5450   5.79  \n",
      "          IF       3.252958  0.606539  2.47  2.7300  3.010  3.8550   4.60  \n",
      "          SI1      3.635064  0.613222  2.53  3.0900  3.660  4.0200   5.30  \n",
      "          SI2      3.895245  0.652493  0.00  3.5500  3.910  4.1900   5.77  \n",
      "          VS1      3.499954  0.624275  2.31  2.9700  3.475  4.0000   5.19  \n",
      "          VS2      3.658231  0.611082  2.40  3.1900  3.720  4.0300   5.35  \n",
      "          VVS1     3.068602  0.536438  2.31  2.6900  2.905  3.4675   4.63  \n",
      "          VVS2     3.273497  0.595463  2.40  2.7225  3.210  3.7675   5.00  \n",
      "Ideal     I1       4.158493  0.587387  2.64  3.9700  4.110  4.3875   6.03  \n",
      "          IF       2.982211  0.458705  2.43  2.7000  2.780  3.1000   5.05  \n",
      "          SI1      3.570801  0.646703  1.07  2.9800  3.540  4.0400   5.45  \n",
      "          SI2      3.865889  0.661980  0.00  3.3825  3.950  4.2100   5.69  \n",
      "          VS1      3.366615  0.622414  1.41  2.8200  3.220  3.8600   5.43  \n",
      "          VS2      3.352102  0.638505  0.00  2.7700  3.200  3.8500   5.38  \n",
      "          VVS1     3.064304  0.483879  2.41  2.7100  2.910  3.2500   4.70  \n",
      "          VVS2     3.221550  0.566991  2.06  2.7400  3.020  3.5500   5.11  \n",
      "Premium   I1       4.130683  0.767522  0.00  3.8500  4.050  4.5200   6.24  \n",
      "          IF       3.191478  0.655716  2.50  2.6800  2.800  3.8550   5.20  \n",
      "          SI1      3.692162  0.677067  0.00  3.1150  3.790  4.1500   5.49  \n",
      "          SI2      4.001967  0.683823  0.00  3.6100  4.000  4.4300   8.06  \n",
      "          VS1      3.509703  0.705434  2.39  2.8600  3.460  4.1000   5.36  \n",
      "          VS2      3.565639  0.718023  0.00  2.8400  3.530  4.1200   6.03  \n",
      "          VVS1     3.080000  0.587519  0.00  2.6800  2.880  3.3100   5.25  \n",
      "          VVS2     3.295920  0.648264  2.35  2.7200  3.030  3.9400   5.03  \n",
      "Very Good I1       4.197381  0.620173  2.90  3.9200  4.090  4.5750   6.31  \n",
      "          IF       3.259813  0.603973  2.39  2.7275  3.090  3.9250   4.60  \n",
      "          SI1      3.643451  0.622204  2.44  3.1600  3.650  4.0200   5.46  \n",
      "          SI2      3.944495  0.621095  2.45  3.5700  3.950  4.2600   5.75  \n",
      "          VS1      3.467177  0.933840  2.36  2.8800  3.480  3.9700  31.80  \n",
      "          VS2      3.576144  0.651301  0.00  3.0450  3.560  4.0200   5.32  \n",
      "          VVS1     3.031420  0.562245  2.35  2.6100  2.830  3.4200   5.06  \n",
      "          VVS2     3.144348  0.644860  2.35  2.6000  2.940  3.5800   5.03  \n",
      "\n",
      "[40 rows x 56 columns]\n"
     ]
    }
   ],
   "source": [
    " import pandas as pd\n",
    " data = pd.read_csv('diamonds.csv')\n",
    "\n",
    "# # # Create Group\n",
    "# grp = data.groupby('clarity')\n",
    "#  print(grp.first())\n",
    "# print()\n",
    "# print(grp.get_group('VS2'))\n",
    "\n",
    "# # # Differentiate Clarity in each cut\n",
    "#  grp2 = data.groupby(['cut', 'clarity'])\n",
    "#  print(grp2.describe())\n",
    "\n",
    "\n",
    " a = pd.DataFrame()\n",
    "# # Creating Dictionary\n",
    " d = {'id': [1, 2, 10, 12],\n",
    " \t'val1': ['a', 'b', 'c', 'd']}\n",
    "a = pd.DataFrame(d)\n",
    "\n",
    "# # Creating dataframe b\n",
    "# b = pd.DataFrame()\n",
    "# # Creating dictionary\n",
    "# d = {'id': [1, 2, 9, 8],\n",
    "# \t'val1': ['p', 'q', 'r', 's']}\n",
    "# b = pd.DataFrame(d)\n",
    "\n",
    "# # left outer join\n",
    "# df = pd.merge(a, b, on='id', how='inner')\n",
    "# print(df)\n",
    "# df = pd.merge(a, b, on='id', how='right')\n",
    "# print(df)\n",
    "# df = pd.merge(a, b, on='id', how='left')\n",
    "# print(df)\n",
    "# df = pd.merge(a, b, on='id', how='outer')\n",
    "\n",
    "# '''\n",
    "\n",
    "# # Define a dictionary containing employee data \n",
    "# data1 = {'Name':['abc', 'pqr', 'lmn', 'xyz'], \n",
    "#         'Age':[27, 24, 22, 32], \n",
    "#         'Address':['Nagpur', 'Kanpur', 'Allahabad', 'Kannuaj'], \n",
    "#         'Qualification':['Msc', 'MA', 'MCA', 'Phd'],\n",
    "#          'Mobile No': [97, 91, 58, 76]}  \n",
    "   \n",
    "# # Define a dictionary containing employee data \n",
    "# data2 = {'Name':['Gaurav', 'Ayushi', 'Abhi', 'Hitesh'], \n",
    "#         'Age':[17, 14, 22, 52], \n",
    "#         'Address':['Nagpur', 'Kanpur', 'Allahabad', 'Kannuaj'], \n",
    "#         'Qualification':['Btech', 'B.A', 'MCA', 'B.hons'],\n",
    "#          'Salary':[1000, 2000, 3000, 4000]}  \n",
    "\n",
    "# # Convert the dictionary into DataFrame  \n",
    "# df = pd.DataFrame(data1,index=[0, 1, 2, 3])\n",
    " \n",
    "# # Convert the dictionary into DataFrame  \n",
    "# df1 = pd.DataFrame(data2, index=[2, 3, 6, 7])\n",
    "# print(df, \"\\n\\n\", df1)  \n",
    "\n",
    "# frame = [df, df1]\n",
    "# result = pd.concat(frame)\n",
    "# print(result)\n",
    "\n",
    "# # Inner \n",
    "# result = pd.concat([df,df1], axis=1, join='inner')\n",
    "# print(result)\n",
    "\n",
    "\n"
   ]
  },
  {
   "cell_type": "code",
   "execution_count": 7,
   "id": "078f5023",
   "metadata": {},
   "outputs": [
    {
     "name": "stdout",
     "output_type": "stream",
     "text": [
      "Empty DataFrame\n",
      "Columns: [hi, hiren]\n",
      "Index: []\n"
     ]
    }
   ],
   "source": [
    "# Read Text Files with Pandas using read_fwf()\n",
    "\n",
    "# importing pandas\n",
    "import pandas as pd\n",
    "\n",
    "# read text file into pandas DataFrame\n",
    "df = pd.read_fwf(\"chk.txt\")\n",
    "\n",
    "# display DataFrame\n",
    "print(df)\n"
   ]
  },
  {
   "cell_type": "code",
   "execution_count": 10,
   "id": "ae5140cc",
   "metadata": {},
   "outputs": [
    {
     "ename": "IndentationError",
     "evalue": "unexpected indent (2086582929.py, line 14)",
     "output_type": "error",
     "traceback": [
      "\u001b[1;36m  Input \u001b[1;32mIn [10]\u001b[1;36m\u001b[0m\n\u001b[1;33m    print(df2)\u001b[0m\n\u001b[1;37m    ^\u001b[0m\n\u001b[1;31mIndentationError\u001b[0m\u001b[1;31m:\u001b[0m unexpected indent\n"
     ]
    }
   ],
   "source": [
    "import pandas as pd\n",
    "import numpy as np\n",
    "technologies = {\n",
    "    'Courses':[\"Spark\",\"PySpark\",\"Python\",\"pandas\",\"Python\",\"Spark\",\"pandas\"],\n",
    "    'Fee' :[20000,25000,22000,30000,22000,20000,30000],\n",
    "    'Duration':['30days','40days','35days','50days','35days','30days','50days'],\n",
    "    'Discount':[1000,2300,1200,2000,1200,1000,2000]\n",
    "              }\n",
    "df = pd.DataFrame(technologies)\n",
    "print(df)\n",
    "\n",
    "# keep first duplicate row\n",
    "df2 = df.drop_duplicates()\n",
    " print(df2)\n",
    "\n",
    "# # Using DataFrame.drop_duplicates() to keep first duplicate row\n",
    "# df2 = df.drop_duplicates(keep='first')\n",
    "# print(df2)\n",
    "\n",
    "# # keep last duplicate row\n",
    "# df2 = df.drop_duplicates( keep='last')\n",
    "# print(df2)\n",
    "\n",
    "# # Remove all duplicate rows \n",
    "# df2 = df.drop_duplicates(keep=False)\n",
    "# print(df2)\n",
    "\n",
    "# # Delete duplicate rows based on specific columns \n",
    "# df2 = df.drop_duplicates(subset=[\"Courses\", \"Fee\"], keep=False)\n",
    "# print(df2)\n",
    "\n",
    "# # Drop duplicate rows in place\n",
    "# df.drop_duplicates(inplace=True)\n",
    "# print(df)\n"
   ]
  },
  {
   "cell_type": "code",
   "execution_count": null,
   "id": "fbaf73bb",
   "metadata": {},
   "outputs": [],
   "source": [
    "\"\""
   ]
  }
 ],
 "metadata": {
  "kernelspec": {
   "display_name": "Python 3 (ipykernel)",
   "language": "python",
   "name": "python3"
  },
  "language_info": {
   "codemirror_mode": {
    "name": "ipython",
    "version": 3
   },
   "file_extension": ".py",
   "mimetype": "text/x-python",
   "name": "python",
   "nbconvert_exporter": "python",
   "pygments_lexer": "ipython3",
   "version": "3.9.12"
  }
 },
 "nbformat": 4,
 "nbformat_minor": 5
}
